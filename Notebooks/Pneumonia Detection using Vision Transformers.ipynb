{
  "nbformat": 4,
  "nbformat_minor": 0,
  "metadata": {
    "colab": {
      "provenance": [],
      "authorship_tag": "ABX9TyPG6jwG5GGzZ+pZBWtTjfKU",
      "include_colab_link": true
    },
    "kernelspec": {
      "name": "python3",
      "display_name": "Python 3"
    },
    "language_info": {
      "name": "python"
    },
    "accelerator": "GPU",
    "gpuClass": "standard"
  },
  "cells": [
    {
      "cell_type": "markdown",
      "metadata": {
        "id": "view-in-github",
        "colab_type": "text"
      },
      "source": [
        "<a href=\"https://colab.research.google.com/github/Satwikram/Pneumonia-Detection-using-Vision-Transformers/blob/main/Notebooks/Pneumonia%20Detection%20using%20Vision%20Transformers.ipynb\" target=\"_parent\"><img src=\"https://colab.research.google.com/assets/colab-badge.svg\" alt=\"Open In Colab\"/></a>"
      ]
    },
    {
      "cell_type": "markdown",
      "source": [
        "### Author: Satwik Ram K"
      ],
      "metadata": {
        "id": "doBsSkQZ5PDt"
      }
    },
    {
      "cell_type": "markdown",
      "source": [
        "Pneumonia Detection\n",
        "\n",
        "![alt text](https://www.mayoclinic.org/-/media/kcms/gbs/patient-consumer/images/2016/05/18/13/02/ww5r032t-8col-jpg.jpg)"
      ],
      "metadata": {
        "id": "G6zs3Bnx6Zy3"
      }
    },
    {
      "cell_type": "markdown",
      "source": [
        "**Pneumonia Detection using 6000 Chest X-Ray HD Images.**\n",
        "[link text](https://www.kaggle.com/paultimothymooney/chest-xray-pneumonia)\n"
      ],
      "metadata": {
        "id": "bquXyTQQ6md2"
      }
    },
    {
      "cell_type": "markdown",
      "source": [
        "**Chest X-Ray of Infected Person**![alt text](https://radiologyassistant.nl/assets/chest-x-ray-lung-disease/a51a0976c3619b_TAB-density-new.jpg)"
      ],
      "metadata": {
        "id": "Z8pdL_Jt6qxt"
      }
    },
    {
      "cell_type": "markdown",
      "source": [
        "**Chest X-Ray of healthy Person**![alt text](data:image/jpeg;base64,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)"
      ],
      "metadata": {
        "id": "3DgMjavD7Aej"
      }
    },
    {
      "cell_type": "markdown",
      "source": [
        "### Setup"
      ],
      "metadata": {
        "id": "My929Yg35SYI"
      }
    },
    {
      "cell_type": "code",
      "source": [
        "!pip install transformers\n",
        "!pip install livelossplot"
      ],
      "metadata": {
        "id": "kXbw5eid5Ush"
      },
      "execution_count": null,
      "outputs": []
    },
    {
      "cell_type": "markdown",
      "source": [
        "### Connecting to Kaggle"
      ],
      "metadata": {
        "id": "1le4Am-85Xi6"
      }
    },
    {
      "cell_type": "code",
      "source": [
        "from google.colab import files\n",
        "\n",
        "files.upload()\n",
        "\n",
        "! mkdir ~/.kaggle\n",
        "\n",
        "! cp kaggle.json ~/.kaggle/\n",
        "\n",
        "! chmod 600 ~/.kaggle/kaggle.json"
      ],
      "metadata": {
        "colab": {
          "base_uri": "https://localhost:8080/",
          "height": 56
        },
        "id": "sVEMlJHw5a0b",
        "outputId": "efdf9150-29b0-419b-95b0-9da626585012"
      },
      "execution_count": 23,
      "outputs": [
        {
          "output_type": "display_data",
          "data": {
            "text/plain": [
              "<IPython.core.display.HTML object>"
            ],
            "text/html": [
              "\n",
              "     <input type=\"file\" id=\"files-7f0427bd-0228-4a16-8998-810132fe0298\" name=\"files[]\" multiple disabled\n",
              "        style=\"border:none\" />\n",
              "     <output id=\"result-7f0427bd-0228-4a16-8998-810132fe0298\">\n",
              "      Upload widget is only available when the cell has been executed in the\n",
              "      current browser session. Please rerun this cell to enable.\n",
              "      </output>\n",
              "      <script>// Copyright 2017 Google LLC\n",
              "//\n",
              "// Licensed under the Apache License, Version 2.0 (the \"License\");\n",
              "// you may not use this file except in compliance with the License.\n",
              "// You may obtain a copy of the License at\n",
              "//\n",
              "//      http://www.apache.org/licenses/LICENSE-2.0\n",
              "//\n",
              "// Unless required by applicable law or agreed to in writing, software\n",
              "// distributed under the License is distributed on an \"AS IS\" BASIS,\n",
              "// WITHOUT WARRANTIES OR CONDITIONS OF ANY KIND, either express or implied.\n",
              "// See the License for the specific language governing permissions and\n",
              "// limitations under the License.\n",
              "\n",
              "/**\n",
              " * @fileoverview Helpers for google.colab Python module.\n",
              " */\n",
              "(function(scope) {\n",
              "function span(text, styleAttributes = {}) {\n",
              "  const element = document.createElement('span');\n",
              "  element.textContent = text;\n",
              "  for (const key of Object.keys(styleAttributes)) {\n",
              "    element.style[key] = styleAttributes[key];\n",
              "  }\n",
              "  return element;\n",
              "}\n",
              "\n",
              "// Max number of bytes which will be uploaded at a time.\n",
              "const MAX_PAYLOAD_SIZE = 100 * 1024;\n",
              "\n",
              "function _uploadFiles(inputId, outputId) {\n",
              "  const steps = uploadFilesStep(inputId, outputId);\n",
              "  const outputElement = document.getElementById(outputId);\n",
              "  // Cache steps on the outputElement to make it available for the next call\n",
              "  // to uploadFilesContinue from Python.\n",
              "  outputElement.steps = steps;\n",
              "\n",
              "  return _uploadFilesContinue(outputId);\n",
              "}\n",
              "\n",
              "// This is roughly an async generator (not supported in the browser yet),\n",
              "// where there are multiple asynchronous steps and the Python side is going\n",
              "// to poll for completion of each step.\n",
              "// This uses a Promise to block the python side on completion of each step,\n",
              "// then passes the result of the previous step as the input to the next step.\n",
              "function _uploadFilesContinue(outputId) {\n",
              "  const outputElement = document.getElementById(outputId);\n",
              "  const steps = outputElement.steps;\n",
              "\n",
              "  const next = steps.next(outputElement.lastPromiseValue);\n",
              "  return Promise.resolve(next.value.promise).then((value) => {\n",
              "    // Cache the last promise value to make it available to the next\n",
              "    // step of the generator.\n",
              "    outputElement.lastPromiseValue = value;\n",
              "    return next.value.response;\n",
              "  });\n",
              "}\n",
              "\n",
              "/**\n",
              " * Generator function which is called between each async step of the upload\n",
              " * process.\n",
              " * @param {string} inputId Element ID of the input file picker element.\n",
              " * @param {string} outputId Element ID of the output display.\n",
              " * @return {!Iterable<!Object>} Iterable of next steps.\n",
              " */\n",
              "function* uploadFilesStep(inputId, outputId) {\n",
              "  const inputElement = document.getElementById(inputId);\n",
              "  inputElement.disabled = false;\n",
              "\n",
              "  const outputElement = document.getElementById(outputId);\n",
              "  outputElement.innerHTML = '';\n",
              "\n",
              "  const pickedPromise = new Promise((resolve) => {\n",
              "    inputElement.addEventListener('change', (e) => {\n",
              "      resolve(e.target.files);\n",
              "    });\n",
              "  });\n",
              "\n",
              "  const cancel = document.createElement('button');\n",
              "  inputElement.parentElement.appendChild(cancel);\n",
              "  cancel.textContent = 'Cancel upload';\n",
              "  const cancelPromise = new Promise((resolve) => {\n",
              "    cancel.onclick = () => {\n",
              "      resolve(null);\n",
              "    };\n",
              "  });\n",
              "\n",
              "  // Wait for the user to pick the files.\n",
              "  const files = yield {\n",
              "    promise: Promise.race([pickedPromise, cancelPromise]),\n",
              "    response: {\n",
              "      action: 'starting',\n",
              "    }\n",
              "  };\n",
              "\n",
              "  cancel.remove();\n",
              "\n",
              "  // Disable the input element since further picks are not allowed.\n",
              "  inputElement.disabled = true;\n",
              "\n",
              "  if (!files) {\n",
              "    return {\n",
              "      response: {\n",
              "        action: 'complete',\n",
              "      }\n",
              "    };\n",
              "  }\n",
              "\n",
              "  for (const file of files) {\n",
              "    const li = document.createElement('li');\n",
              "    li.append(span(file.name, {fontWeight: 'bold'}));\n",
              "    li.append(span(\n",
              "        `(${file.type || 'n/a'}) - ${file.size} bytes, ` +\n",
              "        `last modified: ${\n",
              "            file.lastModifiedDate ? file.lastModifiedDate.toLocaleDateString() :\n",
              "                                    'n/a'} - `));\n",
              "    const percent = span('0% done');\n",
              "    li.appendChild(percent);\n",
              "\n",
              "    outputElement.appendChild(li);\n",
              "\n",
              "    const fileDataPromise = new Promise((resolve) => {\n",
              "      const reader = new FileReader();\n",
              "      reader.onload = (e) => {\n",
              "        resolve(e.target.result);\n",
              "      };\n",
              "      reader.readAsArrayBuffer(file);\n",
              "    });\n",
              "    // Wait for the data to be ready.\n",
              "    let fileData = yield {\n",
              "      promise: fileDataPromise,\n",
              "      response: {\n",
              "        action: 'continue',\n",
              "      }\n",
              "    };\n",
              "\n",
              "    // Use a chunked sending to avoid message size limits. See b/62115660.\n",
              "    let position = 0;\n",
              "    do {\n",
              "      const length = Math.min(fileData.byteLength - position, MAX_PAYLOAD_SIZE);\n",
              "      const chunk = new Uint8Array(fileData, position, length);\n",
              "      position += length;\n",
              "\n",
              "      const base64 = btoa(String.fromCharCode.apply(null, chunk));\n",
              "      yield {\n",
              "        response: {\n",
              "          action: 'append',\n",
              "          file: file.name,\n",
              "          data: base64,\n",
              "        },\n",
              "      };\n",
              "\n",
              "      let percentDone = fileData.byteLength === 0 ?\n",
              "          100 :\n",
              "          Math.round((position / fileData.byteLength) * 100);\n",
              "      percent.textContent = `${percentDone}% done`;\n",
              "\n",
              "    } while (position < fileData.byteLength);\n",
              "  }\n",
              "\n",
              "  // All done.\n",
              "  yield {\n",
              "    response: {\n",
              "      action: 'complete',\n",
              "    }\n",
              "  };\n",
              "}\n",
              "\n",
              "scope.google = scope.google || {};\n",
              "scope.google.colab = scope.google.colab || {};\n",
              "scope.google.colab._files = {\n",
              "  _uploadFiles,\n",
              "  _uploadFilesContinue,\n",
              "};\n",
              "})(self);\n",
              "</script> "
            ]
          },
          "metadata": {}
        },
        {
          "output_type": "stream",
          "name": "stdout",
          "text": [
            "mkdir: cannot create directory ‘/root/.kaggle’: File exists\n"
          ]
        }
      ]
    },
    {
      "cell_type": "markdown",
      "source": [
        "### Downloading Dataset"
      ],
      "metadata": {
        "id": "jxpGglOD5eeT"
      }
    },
    {
      "cell_type": "code",
      "execution_count": null,
      "metadata": {
        "id": "DeR6lDdE4xPX"
      },
      "outputs": [],
      "source": [
        "!kaggle datasets download -d paultimothymooney/chest-xray-pneumonia"
      ]
    },
    {
      "cell_type": "code",
      "source": [
        "!unzip /content/chest-xray-pneumonia.zip"
      ],
      "metadata": {
        "id": "-k5dw51F5gcu"
      },
      "execution_count": null,
      "outputs": []
    },
    {
      "cell_type": "markdown",
      "source": [
        "### Importing Dependencies"
      ],
      "metadata": {
        "id": "5kkM0_vc8AHc"
      }
    },
    {
      "cell_type": "code",
      "source": [
        "import numpy as np\n",
        "import pandas as pd\n",
        "import tensorflow as tf\n",
        "import string\n",
        "import re\n",
        "\n",
        "import os\n",
        "from pathlib import Path\n",
        "\n",
        "import matplotlib.pyplot as plt\n",
        "import cv2\n",
        "\n",
        "from tensorflow.keras.layers import Dense, Input, Flatten, Conv2D, MaxPool2D, GlobalAveragePooling1D, BatchNormalization, Embedding, Bidirectional, LSTM\n",
        "from tensorflow.keras.models import Model\n",
        "from tensorflow.keras.callbacks import ModelCheckpoint, EarlyStopping, ReduceLROnPlateau, TensorBoard\n",
        "\n",
        "\n",
        "\n",
        "from sklearn.model_selection import train_test_split\n",
        "\n",
        "from unicodedata import normalize\n",
        "\n",
        "from tqdm import tqdm\n",
        "\n",
        "from PIL import Image\n",
        "\n",
        "from transformers import ViTFeatureExtractor, TFViTForImageClassification\n",
        "\n",
        "import plotly.express as px\n",
        "from datetime import date\n",
        "\n",
        "from sklearn.metrics import *\n",
        "\n",
        "import joblib\n",
        "\n",
        "from livelossplot import PlotLossesKeras"
      ],
      "metadata": {
        "id": "O2_JlHi_6Jlf"
      },
      "execution_count": 1,
      "outputs": []
    },
    {
      "cell_type": "markdown",
      "source": [
        "### Global Variables"
      ],
      "metadata": {
        "id": "jOY4lFrd8OH1"
      }
    },
    {
      "cell_type": "code",
      "source": [
        "labels = ['PNEUMONIA', 'NORMAL']\n",
        "img_size = 224 #Setting all the images to 224 pixels"
      ],
      "metadata": {
        "id": "9jTA35Pd8IkC"
      },
      "execution_count": 2,
      "outputs": []
    },
    {
      "cell_type": "markdown",
      "source": [
        "### Function to get data"
      ],
      "metadata": {
        "id": "Rs07XWts8Xyg"
      }
    },
    {
      "cell_type": "code",
      "source": [
        "def get_data(data_dir):\n",
        "\n",
        "  \n",
        "  data = []\n",
        "\n",
        "  for label in labels:\n",
        "    path = os.path.join(data_dir, label)\n",
        "    class_num = labels.index(label)\n",
        "    \n",
        "    count = 0\n",
        "\n",
        "    for img in os.listdir(path):\n",
        "      if count < 1200:\n",
        "        try:\n",
        "          img_array = cv2.imread(os.path.join(path, img), cv2.IMREAD_GRAYSCALE)\n",
        "          img_array = cv2.cvtColor(img_array, cv2.COLOR_GRAY2RGB)\n",
        "          resized_array = cv2.resize(img_array, (img_size, img_size))\n",
        "      \n",
        "          resized_array = resized_array / 255\n",
        "\n",
        "          data.append([resized_array, class_num])\n",
        "\n",
        "        except Exception as e:\n",
        "          pass\n",
        "        \n",
        "        count += 1\n",
        "\n",
        "  return data"
      ],
      "metadata": {
        "id": "cmfGXcPn8TWs"
      },
      "execution_count": 3,
      "outputs": []
    },
    {
      "cell_type": "code",
      "source": [
        "# Getting train data\n",
        "train = get_data('chest_xray/train')\n",
        "\n",
        "# Getting test data\n",
        "test = get_data('chest_xray/test')\n",
        "\n",
        "# Getting Validadtion Data\n",
        "val = get_data('chest_xray/val')"
      ],
      "metadata": {
        "id": "cei2NMe38eyO"
      },
      "execution_count": 4,
      "outputs": []
    },
    {
      "cell_type": "markdown",
      "source": [
        "### Counting total numbers of images"
      ],
      "metadata": {
        "id": "eS6VbPc09WvF"
      }
    },
    {
      "cell_type": "code",
      "source": [
        "def count(data):\n",
        "  pneumonia = 0 \n",
        "  normal = 0 \n",
        "\n",
        "  for i, j in data:\n",
        "    if j == 0:\n",
        "      pneumonia += 1\n",
        "\n",
        "    else:\n",
        "      normal += 1\n",
        "\n",
        "  print(\"Pneumonia Images:\", pneumonia)\n",
        "  print(\"Normal Images:\", normal)\n",
        "  print(\"Total Images:\", pneumonia + normal)"
      ],
      "metadata": {
        "id": "xAOspbx08meb"
      },
      "execution_count": 5,
      "outputs": []
    },
    {
      "cell_type": "code",
      "source": [
        "count(train)"
      ],
      "metadata": {
        "colab": {
          "base_uri": "https://localhost:8080/"
        },
        "id": "UUI5v2cx9vtR",
        "outputId": "db72589a-7689-420e-d8dc-22e5d47fec9d"
      },
      "execution_count": 6,
      "outputs": [
        {
          "output_type": "stream",
          "name": "stdout",
          "text": [
            "Pneumonia Images: 1200\n",
            "Normal Images: 1200\n",
            "Total Images: 2400\n"
          ]
        }
      ]
    },
    {
      "cell_type": "code",
      "source": [
        "count(test)"
      ],
      "metadata": {
        "colab": {
          "base_uri": "https://localhost:8080/"
        },
        "id": "Akkgaemi90Ya",
        "outputId": "ca952225-b002-4435-ac4f-0102d438bbdc"
      },
      "execution_count": 7,
      "outputs": [
        {
          "output_type": "stream",
          "name": "stdout",
          "text": [
            "Pneumonia Images: 390\n",
            "Normal Images: 234\n",
            "Total Images: 624\n"
          ]
        }
      ]
    },
    {
      "cell_type": "code",
      "source": [
        "count(val)"
      ],
      "metadata": {
        "colab": {
          "base_uri": "https://localhost:8080/"
        },
        "id": "P9-c4RQ49kfm",
        "outputId": "ceb60fd9-6f1c-45dc-f700-fbfa2185b416"
      },
      "execution_count": 8,
      "outputs": [
        {
          "output_type": "stream",
          "name": "stdout",
          "text": [
            "Pneumonia Images: 8\n",
            "Normal Images: 8\n",
            "Total Images: 16\n"
          ]
        }
      ]
    },
    {
      "cell_type": "markdown",
      "source": [
        "### Taking X and Y"
      ],
      "metadata": {
        "id": "96Yl9GsZ-ZHc"
      }
    },
    {
      "cell_type": "code",
      "source": [
        "X = []\n",
        "y = []\n",
        "\n",
        "# For training data\n",
        "for feature, label in train:\n",
        "  X.append(feature)\n",
        "  y.append(label)\n",
        "\n",
        "\n",
        "# For test data\n",
        "for feature, label in test:\n",
        "  X.append(feature)\n",
        "  y.append(label)\n",
        "\n",
        "\n",
        "# X = np.array(X).reshape(-1, img_size, img_size, 1)\n",
        "# X = np.array(X)\n",
        "y = np.array(y)\n",
        "\n",
        "# X = X / 255"
      ],
      "metadata": {
        "id": "Rj9fPAN995t5"
      },
      "execution_count": 9,
      "outputs": []
    },
    {
      "cell_type": "markdown",
      "source": [
        "### Shuffel the data and split the data into train and test"
      ],
      "metadata": {
        "id": "M1WA6892-nNc"
      }
    },
    {
      "cell_type": "code",
      "source": [
        "X_train, X_test, y_train, y_test = train_test_split(X, y, test_size = 0.2, random_state = 42, shuffle=True, stratify=y)"
      ],
      "metadata": {
        "id": "7asV0wy6-gLe"
      },
      "execution_count": 10,
      "outputs": []
    },
    {
      "cell_type": "markdown",
      "source": [
        "### Feature Extraction"
      ],
      "metadata": {
        "id": "RQsY96g5B_xX"
      }
    },
    {
      "cell_type": "code",
      "source": [
        "checkpoint = \"google/vit-base-patch16-224\""
      ],
      "metadata": {
        "id": "wblXZLsq_Ayk"
      },
      "execution_count": 11,
      "outputs": []
    },
    {
      "cell_type": "code",
      "source": [
        "def feature_extraction(samples):\n",
        "  \n",
        "  feature_extractor = ViTFeatureExtractor.from_pretrained(checkpoint)\n",
        "\n",
        "  return feature_extractor(samples, return_tensors=\"np\")[\"pixel_values\"]"
      ],
      "metadata": {
        "id": "0PhsLotKCGUN"
      },
      "execution_count": 12,
      "outputs": []
    },
    {
      "cell_type": "code",
      "source": [
        "X_train[0].shape"
      ],
      "metadata": {
        "colab": {
          "base_uri": "https://localhost:8080/"
        },
        "id": "-ihOHI0pC3Ub",
        "outputId": "a991d4f9-9143-4081-b7ad-195e3a6563dc"
      },
      "execution_count": 13,
      "outputs": [
        {
          "output_type": "execute_result",
          "data": {
            "text/plain": [
              "(224, 224, 3)"
            ]
          },
          "metadata": {},
          "execution_count": 13
        }
      ]
    },
    {
      "cell_type": "code",
      "source": [
        "X_train = feature_extraction(X_train)\n",
        "X_test = feature_extraction(X_test)"
      ],
      "metadata": {
        "id": "VGYsoTekCSWR"
      },
      "execution_count": 14,
      "outputs": []
    },
    {
      "cell_type": "markdown",
      "source": [
        "### Building the model"
      ],
      "metadata": {
        "id": "LRHmidIiL1tB"
      }
    },
    {
      "cell_type": "code",
      "source": [
        "def build_model(targets, checkpoint, input_shape):\n",
        "\n",
        "  base_model = TFViTForImageClassification.from_pretrained(checkpoint)\n",
        "\n",
        "  pixel_values = Input(shape=input_shape, name=\"pixel_values\")\n",
        "\n",
        "  x = base_model.vit(pixel_values=pixel_values)[0]\n",
        "\n",
        "  x = Flatten()(x)\n",
        "\n",
        "  units = len(np.unique(targets))\n",
        "\n",
        "  if units > 2:\n",
        "      activation = \"softmax\"\n",
        "      loss = \"sparse_categorical_crossentropy\"\n",
        "  else:\n",
        "      activation = \"sigmoid\"\n",
        "      loss = \"binary_crossentropy\"\n",
        "      units = units - 1\n",
        "\n",
        "  outputs = Dense(units, activation = activation, name = \"outputs\")(x)\n",
        "\n",
        "  model = Model(inputs=pixel_values, outputs=outputs)\n",
        "\n",
        "  optimizer =  tf.keras.optimizers.Adam()\n",
        "\n",
        "  model.compile(optimizer=optimizer, loss=loss, metrics=[\"accuracy\"])\n",
        "\n",
        "  # Model Architecture Export\n",
        "  tf.keras.utils.plot_model(model, to_file='model.png', show_shapes=True, \n",
        "                          show_dtype=True, show_layer_names=True, rankdir='TB',\n",
        "                          expand_nested=True, dpi=300, layer_range=None, \n",
        "                          show_layer_activations=True)\n",
        "\n",
        "  return model"
      ],
      "metadata": {
        "id": "ZsxncDEtLqXN"
      },
      "execution_count": 15,
      "outputs": []
    },
    {
      "cell_type": "code",
      "source": [
        "model = build_model(y_train, checkpoint, X_train[0].shape)"
      ],
      "metadata": {
        "colab": {
          "base_uri": "https://localhost:8080/"
        },
        "id": "Gc8e0BcUL5i4",
        "outputId": "2d1354c8-d3c6-43b5-829d-1eabb68d2671"
      },
      "execution_count": 16,
      "outputs": [
        {
          "output_type": "stream",
          "name": "stderr",
          "text": [
            "All model checkpoint layers were used when initializing TFViTForImageClassification.\n",
            "\n",
            "All the layers of TFViTForImageClassification were initialized from the model checkpoint at google/vit-base-patch16-224.\n",
            "If your task is similar to the task the model of the checkpoint was trained on, you can already use TFViTForImageClassification for predictions without further training.\n"
          ]
        }
      ]
    },
    {
      "cell_type": "markdown",
      "source": [
        "### Callbacks"
      ],
      "metadata": {
        "id": "Tp6DaBXkMqPp"
      }
    },
    {
      "cell_type": "code",
      "source": [
        "def callbacks() -> list:\n",
        "\n",
        "    run_name = \"run 1\"\n",
        "    save_path = Path(\"models\")\n",
        "    os.makedirs(save_path/\"logs\", exist_ok=True)\n",
        "    \n",
        "    checkpoint = ModelCheckpoint(save_path, monitor=\"val_loss\", save_best_only=True, \n",
        "                                                    verbose=1)\n",
        "\n",
        "    earlystopping = EarlyStopping(monitor=\"val_loss\", verbose=1, restore_best_weights = True,\n",
        "                                                    patience=5)\n",
        "\n",
        "    logger = TensorBoard(save_path/\"logs\"/run_name, histogram_freq=2, write_graph=True, write_images=True)\n",
        "\n",
        "    lr = ReduceLROnPlateau(monitor=\"val_loss\", factor=0.1, patience=2, verbose=1,\n",
        "                                         min_delta=0.0001, cooldown=0, min_lr=0)\n",
        "    \n",
        "    return [checkpoint, earlystopping, lr, logger, PlotLossesKeras()]"
      ],
      "metadata": {
        "id": "xYWfp38xM4m4"
      },
      "execution_count": 17,
      "outputs": []
    },
    {
      "cell_type": "markdown",
      "source": [
        "### Model Training"
      ],
      "metadata": {
        "id": "p_cNGgopNUYQ"
      }
    },
    {
      "cell_type": "code",
      "source": [
        "model.fit(X_train, y_train, validation_data = (X_test, y_test), epochs = 30, batch_size = 32, callbacks=callbacks())"
      ],
      "metadata": {
        "colab": {
          "base_uri": "https://localhost:8080/",
          "height": 1000
        },
        "id": "aqm1nJBhMYZD",
        "outputId": "0807ef39-6e55-45d1-dbe6-53dfa3b75b0a"
      },
      "execution_count": null,
      "outputs": [
        {
          "output_type": "display_data",
          "data": {
            "text/plain": [
              "<Figure size 864x864 with 4 Axes>"
            ],
            "image/png": "[encoded data removed]"
          },
          "metadata": {
            "needs_background": "light"
          }
        },
        {
          "output_type": "stream",
          "name": "stdout",
          "text": [
            "accuracy\n",
            "\ttraining         \t (min:    0.615, max:    0.615, cur:    0.615)\n",
            "\tvalidation       \t (min:    0.831, max:    0.831, cur:    0.831)\n",
            "Loss\n",
            "\ttraining         \t (min:    1.320, max:    1.320, cur:    1.320)\n",
            "\tvalidation       \t (min:    0.366, max:    0.366, cur:    0.366)\n",
            "lr\n",
            "\tlr               \t (min:    0.001, max:    0.001, cur:    0.001)\n",
            "\b\b\b\b\b\b\b\b\b\b\b\b\b\b\b\b\b\b\b\b\b\b\b\b\b\b\b\b\b\b\b\b\b\b\b\b\b\b\b\b\b\b\b\b\b\b\b\b\b\b\b\b\b\b\b\b\b\b\b\b\b\b\b\b\b\b\b\b\b\b\b\b\b\b\b\b\b\b\b\b\b\b\r76/76 [==============================] - 180s 2s/step - loss: 1.3200 - accuracy: 0.6147 - val_loss: 0.3657 - val_accuracy: 0.8314 - lr: 0.0010\n",
            "Epoch 2/30\n",
            "45/76 [================>.............] - ETA: 38s - loss: 0.4379 - accuracy: 0.8319"
          ]
        }
      ]
    },
    {
      "cell_type": "code",
      "source": [],
      "metadata": {
        "id": "4goR5TvoMki2"
      },
      "execution_count": null,
      "outputs": []
    }
  ]
}